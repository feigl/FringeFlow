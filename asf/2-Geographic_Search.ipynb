{
 "cells": [
  {
   "cell_type": "markdown",
   "id": "928e44f7-b11c-4392-bb4f-832ea77f3855",
   "metadata": {
    "tags": []
   },
   "source": [
    "# asf_search - Geographic Search\n",
    "`asf_search` provides several search-oriented functions. One of these functions is `geo_search()`. This function accepts an area of interest in the form of a WKT (Well Known Text), as well as a variety of search parameters by which to refine your search results.\n",
    "***\n",
    "## Before You Start\n",
    "The steps outlined in this demonstration assume `asf_search` is available in your environment. For guidance on installing `asf_search`, [begin here](./1-Basic_Overview.ipynb#Before-You-Start)."
   ]
  },
  {
   "cell_type": "markdown",
   "id": "43588eb5-1dfc-4e82-8503-940bbbaffbb6",
   "metadata": {
    "tags": []
   },
   "source": [
    "***\n",
    "## Performing a Geographic Search\n",
    "[View this search in Vertex](https://search.asf.alaska.edu/#/?zoom=5.373&center=-153.186,53.964&polygon=POLYGON((-152.81%2058.49,-154.9%2057.49,-155.08%2056.3,-153.82%2056.34,-151.99%2057.3,-151.43%2058.19,-152.81%2058.49))&dataset=ALOS&start=2010-01-01T06:00:00Z&end=2010-02-02T05:59:59Z&resultsLoaded=true)\n",
    "\n",
    "To begin, we will need to craft a suitable WKT. ASF's [Vertex](https://search.asf.alaska.edu) can be helpful in this regard, as it allows you to draw on a map, or import a geospatial file such as a shapefile or geojson, after which a WKT string can be copied and used elsewhere.\n"
   ]
  },
  {
   "cell_type": "code",
   "execution_count": null,
   "id": "52144455-af61-4f36-b35b-57a04683ebb1",
   "metadata": {
    "tags": []
   },
   "outputs": [],
   "source": [
    "import asf_search as asf\n",
    "\n",
    "aoi = 'POLYGON((-152.81 58.49,-154.90 57.49,-155.08 56.30,-153.82 56.34,-151.99 57.30,-151.43 58.19,-152.81 58.49))'"
   ]
  },
  {
   "cell_type": "markdown",
   "id": "43f1d561-c88f-435a-ac64-d691c8fb7e76",
   "metadata": {},
   "source": [
    "Next, we will assemble any additional search parameters, such as platform, date range, and the type of product in which we are interested. All options to `geo_search()` can be specified using _kwargs_, which also allows them to be handled using a dictionary:"
   ]
  },
  {
   "cell_type": "code",
   "execution_count": null,
   "id": "4dd4ec77-6e5f-4d5e-8253-719a4152285e",
   "metadata": {},
   "outputs": [],
   "source": [
    "opts = {\n",
    "    'platform': asf.PLATFORM.ALOS,\n",
    "    'start': '2010-01-01T00:00:00Z',\n",
    "    'end': '2010-02-01T23:59:59Z'\n",
    "}"
   ]
  },
  {
   "cell_type": "markdown",
   "id": "084583dc-9f5c-4887-9cae-1f10d7e2cedf",
   "metadata": {},
   "source": [
    "Once all the search parameters are ready, we can run the query and retrieve the results:"
   ]
  },
  {
   "cell_type": "code",
   "execution_count": null,
   "id": "8e996159-0e4b-4cdd-bf22-f75a48163b4d",
   "metadata": {},
   "outputs": [],
   "source": [
    "results = asf.geo_search(intersectsWith=aoi, **opts)\n",
    "\n",
    "print(f'{len(results)} results found')"
   ]
  },
  {
   "cell_type": "markdown",
   "id": "c6be9b2a-a0c6-4ef3-a118-98c99f82f229",
   "metadata": {},
   "source": [
    "At this point, your search is complete and you can perform any of the usual workflows on your search results."
   ]
  },
  {
   "cell_type": "code",
   "execution_count": null,
   "id": "42d0123c-7f84-4356-b0b9-23359f9d106f",
   "metadata": {
    "scrolled": true,
    "tags": []
   },
   "outputs": [],
   "source": [
    "print(results)"
   ]
  },
  {
   "cell_type": "markdown",
   "id": "6c4900f9-e610-4136-8c90-1fbdaee93bdf",
   "metadata": {},
   "source": [
    "***\n",
    "## Search Based on Scene's Footprint"
   ]
  },
  {
   "cell_type": "markdown",
   "id": "f0572135-4d19-4a2f-9a2a-7b1db2411b4b",
   "metadata": {},
   "source": [
    "As a secondary example, suppose you want to perform another geographic search to find results that overlap with one of your previous results. Using `shapely`, which is already installed by requirement of `asf_search` itself, we can quickly product a WKT based on a result and then perform a secondary search:"
   ]
  },
  {
   "cell_type": "code",
   "execution_count": null,
   "id": "d04567f4-1223-475f-9b2a-a59ff7ce1486",
   "metadata": {},
   "outputs": [],
   "source": [
    "from shapely.geometry import shape\n",
    "\n",
    "new_aoi = shape(results[0].geometry).wkt\n",
    "\n",
    "refined_results = asf.geo_search(intersectsWith=new_aoi, **opts)\n",
    "\n",
    "print(f'{len(refined_results)} results found')"
   ]
  },
  {
   "cell_type": "markdown",
   "id": "8bd15b6e-355e-4b96-858b-cd2085ace0e8",
   "metadata": {},
   "source": [
    "***\n",
    "## Search Based on Scene's Centroid\n",
    "Alternately, suppose we would like to search for similar scenes that overlap another scene's centroid. `ASFProduct` provides a `centroid()` convenience function, which returns a `shapely.Point` object for this purpose:"
   ]
  },
  {
   "cell_type": "code",
   "execution_count": null,
   "id": "d6dd53c7-fcfd-4369-9859-a71dbcbef12b",
   "metadata": {},
   "outputs": [],
   "source": [
    "centroid = results[0].centroid().wkt\n",
    "\n",
    "centroid_results = asf.geo_search(intersectsWith=centroid, **opts)\n",
    "\n",
    "print(f'{len(centroid_results)} results found')"
   ]
  },
  {
   "cell_type": "markdown",
   "id": "8aed3b7c-a557-4cbb-878e-aa9fe8330646",
   "metadata": {},
   "source": [
    "***\n",
    "## Summary\n",
    "A complete, basic example of using `geo_search()`:"
   ]
  },
  {
   "cell_type": "code",
   "execution_count": null,
   "id": "ceea6e9a-b1ea-417f-8daa-98bd17c9730c",
   "metadata": {
    "scrolled": true,
    "tags": []
   },
   "outputs": [],
   "source": [
    "import asf_search as asf\n",
    "\n",
    "print(\n",
    "    asf.geo_search(\n",
    "        intersectsWith='POLYGON((-152.81 58.49,-154.90 57.49,-155.08 56.30,-153.82 56.34,-151.99 57.30,-151.43 58.19,-152.81 58.49))',\n",
    "        platform=asf.PLATFORM.ALOS,\n",
    "        start='2010-01-01',\n",
    "        end='2010-02-01'))"
   ]
  },
  {
   "cell_type": "markdown",
   "id": "44497649-d720-45dc-a2f7-b6a737b635bb",
   "metadata": {},
   "source": [
    "***\n",
    "Next: [Granule Searches](./3-Granule_Search.ipynb)"
   ]
  }
 ],
 "metadata": {
  "kernelspec": {
   "display_name": "Python 3 (ipykernel)",
   "language": "python",
   "name": "python3"
  },
  "language_info": {
   "codemirror_mode": {
    "name": "ipython",
    "version": 3
   },
   "file_extension": ".py",
   "mimetype": "text/x-python",
   "name": "python",
   "nbconvert_exporter": "python",
   "pygments_lexer": "ipython3",
   "version": "3.8.9"
  },
  "toc-autonumbering": false
 },
 "nbformat": 4,
 "nbformat_minor": 5
}
