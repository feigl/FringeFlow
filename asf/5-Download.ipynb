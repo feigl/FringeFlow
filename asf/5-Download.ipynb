{
 "cells": [
  {
   "cell_type": "markdown",
   "id": "928e44f7-b11c-4392-bb4f-832ea77f3855",
   "metadata": {
    "tags": []
   },
   "source": [
    "### asf_search - Downloading Data\n",
    "`asf_search` provides many ways to find data, but equally important is the ability to download that data. Fortunately, `asf_search` provides a simple interface through which to download data, using a variety of authentication methods.\n",
    "***\n",
    "## Before You Start\n",
    "The steps outlined in this demonstration assume `asf_search` is available in your environment. For guidance on installing `asf_search`, [begin here](./1-Basic_Overview.ipynb#Before-You-Start).\n",
    "\n",
    "Additionally, this section expects you to have an [Earthdata Login](https://urs.earthdata.nasa.gov/) account with the appropriate applications authorized, EULAs signed, and profile fields set. The easiest way to check that your EDL account is in order is to simply go to [Vertex](https://search.asf.alaska.edu) and download a product.\n",
    "\n",
    "Lastly, the examples in this notebook assume a few directories exist, namely `./downloads`, `./downloads1`, `./downloads2`, and `./downloads3`. You can create them yourself, or run the following code block:"
   ]
  },
  {
   "cell_type": "code",
   "execution_count": 2,
   "id": "db06fa80-4ac3-40b5-9787-256b422d49e6",
   "metadata": {
    "tags": []
   },
   "outputs": [],
   "source": [
    "from pathlib import Path\n",
    "dirs = ['downloads', 'downloads1', 'downloads2', 'downloads3']\n",
    "for d in dirs:\n",
    "    Path(d).mkdir(exist_ok=True)"
   ]
  },
  {
   "cell_type": "markdown",
   "id": "43588eb5-1dfc-4e82-8503-940bbbaffbb6",
   "metadata": {
    "tags": []
   },
   "source": [
    "***\n",
    "## ASFSession\n",
    "\n",
    "Because downloading any product in the ASF archive requires authentication, `asf_search` provides the `ASFSession` class, a subclass of `Session` with a few specific methods added to make authentication straightforward.\n",
    "\n",
    "Using .netrc credentials is the preferred method for authentication. For more information, see the [session authentication documentation](https://docs.asf.alaska.edu/asf_search/downloading/#session-authentication)\n",
    "\n",
    "A new, unauthenticated session can be created, although the authentication methods listed below allow chaining for direct creation of an authenticated session."
   ]
  },
  {
   "cell_type": "code",
   "execution_count": 1,
   "id": "38a2c671-0789-4e7c-b758-5b48745b2877",
   "metadata": {},
   "outputs": [],
   "source": [
    "import asf_search as asf\n",
    "\n",
    "session = asf.ASFSession()"
   ]
  },
  {
   "cell_type": "markdown",
   "id": "118f2976-fae9-481d-b8bf-6d35927f685a",
   "metadata": {},
   "source": [
    "### `auth_with_creds()`\n",
    "This authentication method accepts a username and password and establishes an authentication session with EDL and ASF."
   ]
  },
  {
   "cell_type": "code",
   "execution_count": null,
   "id": "f4ea3b83-58cb-4baa-beb1-5ae272466ef1",
   "metadata": {},
   "outputs": [],
   "source": [
    "import getpass\n",
    "username = input('Username:')\n",
    "password = getpass.getpass('Password:')\n",
    "\n",
    "try:\n",
    "    user_pass_session = asf.ASFSession().auth_with_creds(username, password)\n",
    "except asf.ASFAuthenticationError as e:\n",
    "    print(f'Auth failed: {e}')\n",
    "else:\n",
    "    print('Success!')"
   ]
  },
  {
   "cell_type": "markdown",
   "id": "9ab80cec-237a-4517-bda6-5ca888e58ab8",
   "metadata": {},
   "source": [
    "### `auth_with_token()`\n",
    "This authentication method accepts an EDL Token which is then included as part of an `Authorization: Bearer` header on any downloads using this session. To generate an EDL Token, [sign in to EDL](https://urs.earthdata.nasa.gov/home), select the \"Generate Token\" tab, and then click the green \"Generate Token\" button. The token can then be copied and used below.\n",
    "  \n",
    "__Note:__ While it is extremely convenient, not all datapool hosts are compatible with this authentication method yet."
   ]
  },
  {
   "cell_type": "code",
   "execution_count": null,
   "id": "3f1e9023-98ba-46c2-911b-4aa043947f3b",
   "metadata": {},
   "outputs": [],
   "source": [
    "import getpass\n",
    "token = getpass.getpass('EDL Token:')\n",
    "\n",
    "token_session = asf.ASFSession().auth_with_token(token)"
   ]
  },
  {
   "cell_type": "markdown",
   "id": "4c0551b8-5319-437c-97cd-c7dee8d7c17e",
   "metadata": {},
   "source": [
    "### `auth_with_cookiejar()`\n",
    "This method accepts an `http.cookiejar` compatible object, such as a previously authenticated session stored for later re-use.\n",
    "\n",
    "For this demonstration, we will make use of the cookiejar from one of the previously authenticated sessions above:"
   ]
  },
  {
   "cell_type": "code",
   "execution_count": null,
   "id": "fcedf4b8-f69f-4472-a96a-01a4c4e362da",
   "metadata": {},
   "outputs": [],
   "source": [
    "cookiejar = user_pass_session.cookies"
   ]
  },
  {
   "cell_type": "markdown",
   "id": "4a7466f1-4dd3-45cf-b47b-ec46d2c884e8",
   "metadata": {},
   "source": [
    "It is to be assumed that this cookiejar is perhaps saved to a file, later loaded, etc. At that time, a new ASFSession can be instantiated using the cookiejar. While it is not required to use this method to reload the session, it can simplify exception handling and EDL/ASF-specific auth processes, and allows a normalized use of `ASFSession` in all cases:"
   ]
  },
  {
   "cell_type": "code",
   "execution_count": null,
   "id": "d295ae06-d933-49a7-ab5c-a1e824ef239c",
   "metadata": {},
   "outputs": [],
   "source": [
    "cookiejar_session = asf.ASFSession().auth_with_cookiejar(cookiejar)"
   ]
  },
  {
   "cell_type": "markdown",
   "id": "0bbfdce0-2a90-4dc0-9ca4-a8096be4f3bd",
   "metadata": {},
   "source": [
    "***\n",
    "## Downloading\n",
    "[View this search in Vertex](https://search.asf.alaska.edu/#/?dataset=UAVSAR&productTypes=METADATA&resultsLoaded=true&zoom=8.090&center=-90.488,28.359&polygon=POLYGON((-91.97%2028.78,-88.85%2028.78,-88.85%2030.31,-91.97%2030.31,-91.97%2028.78)))\n",
    "  \n",
    "With authentication handled, we can now begin downloading products. First, we will need some search results to work with:"
   ]
  },
  {
   "cell_type": "code",
   "execution_count": null,
   "id": "a69116c4-7783-4648-bdbe-ee9a3966b059",
   "metadata": {},
   "outputs": [],
   "source": [
    "results = asf.geo_search(\n",
    "    intersectsWith='POLYGON((-91.97 28.78,-88.85 28.78,-88.85 30.31,-91.97 30.31,-91.97 28.78))',\n",
    "    platform=asf.PLATFORM.UAVSAR,\n",
    "    processingLevel=asf.PRODUCT_TYPE.METADATA,\n",
    "    maxResults=250)\n",
    "\n",
    "print(f'{len(results)} results found')"
   ]
  },
  {
   "cell_type": "markdown",
   "id": "6c4900f9-e610-4136-8c90-1fbdaee93bdf",
   "metadata": {},
   "source": [
    "***\n",
    "## Downloading Single Products\n",
    "To download a single `ASFProduct`, simply call its `download()` method, passing in a previously-authenticated session, a path, and optionally a filename. If no filename is provided, the default is to use the filename of the product iself, as described in `properties['fileName']`."
   ]
  },
  {
   "cell_type": "code",
   "execution_count": null,
   "id": "4afbac1b-df3d-4b8a-871d-df1f80b5f333",
   "metadata": {},
   "outputs": [],
   "source": [
    "from os import listdir\n",
    "\n",
    "results[0].download(path='./downloads1', session=user_pass_session)\n",
    "\n",
    "listdir('./downloads1')"
   ]
  },
  {
   "cell_type": "markdown",
   "id": "42506e17",
   "metadata": {},
   "source": [
    "Some results may be stored as zip files. To download only part of a single `ASFProduct`'s zip, call its `remotezip()` method, passing in a previously-authenticated session. It should return a `RemoteZip` object, which provides functionality to download parts of the `ASFProduct`'s zip archive. Below is an example of using a `RemoteZip` object to download all .tiff files from a single product.\n",
    "\n",
    "NOTE: the `remotezip()` method requires installing the asf-search module's extra dependencies, in particular the `remotezip` package. Extra dependencies can be installed via pip like so:\n",
    "\n",
    "``` bash\n",
    "python3 -m pip install asf-search[extras]\n",
    "```"
   ]
  },
  {
   "cell_type": "code",
   "execution_count": null,
   "id": "833d2a7e",
   "metadata": {},
   "outputs": [],
   "source": [
    "results_with_zips = asf.search(platform=asf.PLATFORM.SENTINEL1, processingLevel=asf.PRODUCT_TYPE.GRD_HD, maxResults=250)\n",
    "\n",
    "with results_with_zips[0].remotezip(session=user_pass_session) as z:\n",
    "    file_paths = [file.filename for file in z.filelist if file.filename.endswith('.tiff')]\n",
    "\n",
    "    print(f'found {len(file_paths)} tiff files in zip')\n",
    "\n",
    "    for file_path in file_paths:\n",
    "        z.extract(file_path, path='./downloads1')\n",
    "\n",
    "listdir('./downloads1')"
   ]
  },
  {
   "cell_type": "markdown",
   "id": "5684f338",
   "metadata": {},
   "source": [
    "For more information on remotezip functionality, see https://github.com/gtsystem/python-remotezip"
   ]
  },
  {
   "cell_type": "markdown",
   "id": "8bd15b6e-355e-4b96-858b-cd2085ace0e8",
   "metadata": {
    "tags": []
   },
   "source": [
    "***\n",
    "## Downloading Multiple Products\n",
    "More often than not, we want to download an entire set of search results rather than just a single product. `ASFSearchResults` provides this functionality similarly to `ASFProduct` via the identically-named `download()` method, albeit with two key differences: filenames always use the default behavior, and downloads can occur in parallel. If a particular file already exists, a `UserWarning` will be emitted, and the file will be skipped."
   ]
  },
  {
   "cell_type": "code",
   "execution_count": null,
   "id": "232f04cc-88e6-4a23-ac78-9f2d98d0760a",
   "metadata": {},
   "outputs": [],
   "source": [
    "results[0:10].download(path='./downloads1', session=user_pass_session)\n",
    "listdir('./downloads1')"
   ]
  },
  {
   "cell_type": "markdown",
   "id": "84a28894-3bae-4a32-a981-8242dd2b5b19",
   "metadata": {},
   "source": [
    "While the above example downloads each file in sequence by default, it is often more performant to download multiple files in parallel. With that in mind, `ASFSearchResults.download()` allows setting a maximum number downloads to run in parallel:"
   ]
  },
  {
   "cell_type": "code",
   "execution_count": null,
   "id": "89b64286-c961-4b95-b67d-427abc30206e",
   "metadata": {
    "scrolled": true,
    "tags": []
   },
   "outputs": [],
   "source": [
    "results.download(path='./downloads2', session=user_pass_session, processes=50)\n",
    "\n",
    "listdir('./downloads2')"
   ]
  },
  {
   "cell_type": "markdown",
   "id": "a3260757-d28d-4a2c-aaf7-5504ef37fb85",
   "metadata": {},
   "source": [
    "***\n",
    "## Downloading Arbitrary URLs\n",
    "Lastly, it may occur that you have a list of product URLs you wish to download, but have not arrived at that list through `asf_search`. Perhaps you have a service in the cloud and it's convenient to just copy/paste a list of URLs from some external process. In that case, `asf_search` exposes its download functionality more directly, through `download_urls()`. This function takes a list of arbitrary URLs, a path, an authenticated session, and optionally a number of downloads to run in parallel:"
   ]
  },
  {
   "cell_type": "code",
   "execution_count": null,
   "id": "2e2626a6-14ba-4352-862a-b7a8fea05cc7",
   "metadata": {},
   "outputs": [],
   "source": [
    "urls = [\n",
    "    'https://datapool.asf.alaska.edu/METADATA/UA/aleutn_06005_09051_003_090723_L090_CX_01.ann',\n",
    "    'https://datapool.asf.alaska.edu/METADATA/UA/aleutn_06004_09051_004_090723_L090_CX_01.ann',\n",
    "    'https://datapool.asf.alaska.edu/METADATA/UA/aleutn_04701_09051_005_090723_L090_CX_01.ann',\n",
    "    'https://datapool.asf.alaska.edu/METADATA/UA/aleutn_23301_09050_001_090722_L090_CX_01.ann',\n",
    "    'https://datapool.asf.alaska.edu/METADATA/UA/aleutn_19802_11054_001_110802_L090_CX_01.ann']\n",
    "\n",
    "asf.download_urls(urls=urls, path='./downloads3', session=user_pass_session, processes=5)\n",
    "\n",
    "listdir('./downloads3')"
   ]
  },
  {
   "cell_type": "markdown",
   "id": "30760f6f",
   "metadata": {},
   "source": [
    "***\n",
    "## S3 URIs\n",
    "Some products have S3 URIs available (SENTINEL-1, OPERA, and NISAR)"
   ]
  },
  {
   "cell_type": "code",
   "execution_count": 2,
   "id": "dd4a81ed",
   "metadata": {},
   "outputs": [
    {
     "data": {
      "text/plain": [
       "['s3://asf-cumulus-prod-opera-browse/OPERA_L2_CSLC-S1/OPERA_L2_CSLC-S1_T113-241605-IW3_20240610T110743Z_20240611T073356Z_S1A_VV_v1.1/OPERA_L2_CSLC-S1_T113-241605-IW3_20240610T110743Z_20240611T073356Z_S1A_VV_v1.1_BROWSE.png.md5',\n",
       " 's3://asf-cumulus-prod-opera-browse/OPERA_L2_CSLC-S1/OPERA_L2_CSLC-S1_T113-241605-IW3_20240610T110743Z_20240611T073356Z_S1A_VV_v1.1/OPERA_L2_CSLC-S1_T113-241605-IW3_20240610T110743Z_20240611T073356Z_S1A_VV_v1.1_BROWSE_low-res.png.md5',\n",
       " 's3://asf-cumulus-prod-opera-browse/OPERA_L2_CSLC-S1/OPERA_L2_CSLC-S1_T113-241605-IW3_20240610T110743Z_20240611T073356Z_S1A_VV_v1.1/OPERA_L2_CSLC-S1_T113-241605-IW3_20240610T110743Z_20240611T073356Z_S1A_VV_v1.1_BROWSE_thumbnail.png.md5',\n",
       " 's3://asf-cumulus-prod-opera-products/OPERA_L2_CSLC-S1/OPERA_L2_CSLC-S1_T113-241605-IW3_20240610T110743Z_20240611T073356Z_S1A_VV_v1.1/OPERA_L2_CSLC-S1_T113-241605-IW3_20240610T110743Z_20240611T073356Z_S1A_VV_v1.1.h5',\n",
       " 's3://asf-cumulus-prod-opera-products/OPERA_L2_CSLC-S1/OPERA_L2_CSLC-S1_T113-241605-IW3_20240610T110743Z_20240611T073356Z_S1A_VV_v1.1/OPERA_L2_CSLC-S1_T113-241605-IW3_20240610T110743Z_20240611T073356Z_S1A_VV_v1.1.h5.md5',\n",
       " 's3://asf-cumulus-prod-opera-products/OPERA_L2_CSLC-S1/OPERA_L2_CSLC-S1_T113-241605-IW3_20240610T110743Z_20240611T073356Z_S1A_VV_v1.1/OPERA_L2_CSLC-S1_T113-241605-IW3_20240610T110743Z_20240611T073356Z_S1A_VV_v1.1.iso.xml',\n",
       " 's3://asf-cumulus-prod-opera-products/OPERA_L2_CSLC-S1/OPERA_L2_CSLC-S1_T113-241605-IW3_20240610T110743Z_20240611T073356Z_S1A_VV_v1.1/OPERA_L2_CSLC-S1_T113-241605-IW3_20240610T110743Z_20240611T073356Z_S1A_VV_v1.1.iso.xml.md5']"
      ]
     },
     "execution_count": 2,
     "metadata": {},
     "output_type": "execute_result"
    }
   ],
   "source": [
    "opera_product = asf.search(dataset=asf.DATASET.OPERA_S1, maxResults=1)[0]\n",
    "opera_product.properties['s3Urls']"
   ]
  },
  {
   "cell_type": "markdown",
   "id": "159b5eb8",
   "metadata": {},
   "source": [
    "From there authorized users can use their prefered method for authentication and downloading s3 objects."
   ]
  },
  {
   "cell_type": "markdown",
   "id": "8aed3b7c-a557-4cbb-878e-aa9fe8330646",
   "metadata": {
    "tags": []
   },
   "source": [
    "***\n",
    "## Summary\n",
    "A complete, basic example of downloading search results:"
   ]
  },
  {
   "cell_type": "code",
   "execution_count": null,
   "id": "ceea6e9a-b1ea-417f-8daa-98bd17c9730c",
   "metadata": {
    "scrolled": true,
    "tags": []
   },
   "outputs": [],
   "source": [
    "from os import listdir\n",
    "import getpass\n",
    "username = input('Username:')\n",
    "password = getpass.getpass('Password:')\n",
    "\n",
    "import asf_search as asf\n",
    "\n",
    "session = asf.ASFSession().auth_with_creds(username=username, password=password)\n",
    "\n",
    "results = asf.geo_search(\n",
    "    intersectsWith='POLYGON((-91.97 28.78,-88.85 28.78,-88.85 30.31,-91.97 30.31,-91.97 28.78))',\n",
    "    platform=asf.PLATFORM.UAVSAR,\n",
    "    processingLevel=asf.PRODUCT_TYPE.METADATA,\n",
    "    maxResults=20)\n",
    "\n",
    "results.download(\n",
    "    path='./downloads',\n",
    "    session=session,\n",
    "    processes=10)\n",
    "\n",
    "listdir('./downloads')"
   ]
  },
  {
   "cell_type": "markdown",
   "id": "38ca6c8a-3b3a-45e4-9385-37f0eff0e60c",
   "metadata": {},
   "source": [
    "***\n",
    "Next: [Closing](./6-Outro.md)"
   ]
  }
 ],
 "metadata": {
  "celltoolbar": "Raw Cell Format",
  "kernelspec": {
   "display_name": "Python 3 (ipykernel)",
   "language": "python",
   "name": "python3"
  },
  "language_info": {
   "codemirror_mode": {
    "name": "ipython",
    "version": 3
   },
   "file_extension": ".py",
   "mimetype": "text/x-python",
   "name": "python",
   "nbconvert_exporter": "python",
   "pygments_lexer": "ipython3",
   "version": "3.11.5"
  },
  "toc-autonumbering": false,
  "toc-showtags": false
 },
 "nbformat": 4,
 "nbformat_minor": 5
}
