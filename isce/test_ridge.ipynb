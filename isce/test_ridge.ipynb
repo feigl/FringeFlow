{
 "cells": [
  {
   "cell_type": "markdown",
   "metadata": {
    "collapsed": true
   },
   "source": [
    "\n",
    "# Use asf_search to make network graph of bperp vs Dt\n",
    "\n",
    "2024/05/21 Kurt Feigl \n",
    "\n",
    "### Other recommended packages\n",
    "\n",
    "We also recommend installing the `asf_search` Python package for performing searches of the ASF catalog. The ASF Search\n",
    "Python package can be installed using [Anaconda/Miniconda](https://docs.conda.io/projects/conda/en/latest/user-guide/install/download.html#anaconda-or-miniconda)\n",
    "(recommended) via [`conda`](https://anaconda.org/conda-forge/asf_search):\n",
    "\n",
    "```\n",
    "conda install -c conda-forge asf_search\n",
    "```\n",
    "\n",
    "Or using [`pip`](https://pypi.org/project/asf-search):\n",
    "\n",
    "```\n",
    "python -m pip install asf_search\n",
    "```\n",
    "\n",
    "Full documentation of `asf_search` can be found in the [ASF search documentation](https://docs.asf.alaska.edu/asf_search/basics)."
   ]
  },
  {
   "cell_type": "code",
   "execution_count": 20,
   "metadata": {},
   "outputs": [],
   "source": [
    "# initial setup\n",
    "import asf_search as asf\n",
    "#import hyp3_sdk as sdk"
   ]
  },
  {
   "cell_type": "markdown",
   "metadata": {},
   "source": [
    "define a helper function \n",
    "(from ChatGPT)"
   ]
  },
  {
   "cell_type": "code",
   "execution_count": 21,
   "metadata": {},
   "outputs": [],
   "source": [
    "def print_callable_methods(obj):\n",
    "    # Get all attributes of the object\n",
    "    all_attributes = dir(obj)\n",
    "    \n",
    "    # Filter to get only callable methods and exclude special methods\n",
    "    callable_methods = [attr for attr in all_attributes if callable(getattr(obj, attr)) and not attr.startswith('__')]\n",
    "    \n",
    "    # Print callable methods\n",
    "    for method in callable_methods:\n",
    "        print(method)"
   ]
  },
  {
   "cell_type": "markdown",
   "metadata": {},
   "source": [
    "Define a helper function to list attributes of an object\n",
    "(from ChatGPT)"
   ]
  },
  {
   "cell_type": "code",
   "execution_count": 22,
   "metadata": {},
   "outputs": [],
   "source": [
    "def print_all_attributes(obj, exclude_special=True):\n",
    "    # Get all attributes of the object\n",
    "    all_attributes = dir(obj)\n",
    "    \n",
    "    if exclude_special:\n",
    "        # Filter to exclude special methods\n",
    "        all_attributes = [attr for attr in all_attributes if not attr.startswith('__')]\n",
    "    \n",
    "    # Print all attributes and their values\n",
    "    for attr in all_attributes:\n",
    "        try:\n",
    "            print(f\"{attr}: {getattr(obj, attr)}\")\n",
    "        except AttributeError:\n",
    "            print(f\"{attr}: (attribute not accessible)\")\n",
    "\n",
    "\n"
   ]
  },
  {
   "cell_type": "code",
   "execution_count": 23,
   "metadata": {},
   "outputs": [
    {
     "name": "stdout",
     "output_type": "stream",
     "text": [
      "['apple']\n",
      "['apple', 'banana']\n",
      "['apple', 'banana', 'cherry']\n",
      "['apple', 'banana', 'cherry', 'date']\n",
      "['apple', 'banana', 'cherry', 'date', 'elderberry']\n"
     ]
    }
   ],
   "source": [
    "# Step 1: Initialize an empty list\n",
    "string_list = []\n",
    "\n",
    "# Step 2: Append strings to the list\n",
    "string_list.append(\"apple\")\n",
    "print(string_list)  # Output: ['apple']\n",
    "\n",
    "string_list.append(\"banana\")\n",
    "print(string_list)  # Output: ['apple', 'banana']\n",
    "\n",
    "string_list.append(\"cherry\")\n",
    "print(string_list)  # Output: ['apple', 'banana', 'cherry']\n",
    "\n",
    "string_list.append(\"date\")\n",
    "print(string_list)  # Output: ['apple', 'banana', 'cherry', 'date']\n",
    "\n",
    "string_list.append(\"elderberry\")\n",
    "print(string_list)  # Output: ['apple', 'banana', 'cherry', 'date', 'elderberry']\n"
   ]
  },
  {
   "cell_type": "markdown",
   "metadata": {},
   "source": [
    "## Authenticating to the API\n",
    "\n",
    "The SDK will attempt to pull your [NASA Earthdata Login](https://urs.earthdata.nasa.gov/) credentials out of `~/.netrc`\n",
    "by default, or you can pass your credentials in directly"
   ]
  },
  {
   "cell_type": "markdown",
   "metadata": {},
   "source": [
    "\n",
    "The example granules below can be viewed  in [ASF Search here](https://search.asf.alaska.edu/#/?zoom=7.08772014623877&center=-141.733866,58.498008&resultsLoaded=true&granule=S1A_IW_SLC__1SDV_20210214T154835_20210214T154901_036588_044C54_8494-SLC&searchType=List%20Search&searchList=S1A_IW_SLC__1SDV_20210214T154835_20210214T154901_036588_044C54_8494-SLC,S1B_IW_SLC__1SDV_20210210T153131_20210210T153159_025546_030B48_B568-SLC,S1A_IW_SLC__1SDV_20210210T025526_20210210T025553_036522_0449E2_7769-SLC,S1A_IW_SLC__1SDV_20210210T025501_20210210T025528_036522_0449E2_3917-SLC,S1B_IW_SLC__1SDV_20210209T030255_20210209T030323_025524_030A8D_7E88-SLC,S1B_IW_SLC__1SDV_20210209T030227_20210209T030257_025524_030A8D_5BAF-SLC,S1A_IW_SLC__1SDV_20210202T154835_20210202T154902_036413_044634_01A1-SLC)."
   ]
  },
  {
   "cell_type": "code",
   "execution_count": 24,
   "metadata": {},
   "outputs": [],
   "source": [
    "\n",
    "# granules = [\n",
    "#     'S1A_IW_SLC__1SDV_20210214T154835_20210214T154901_036588_044C54_8494',\n",
    "#     'S1B_IW_SLC__1SDV_20210210T153131_20210210T153159_025546_030B48_B568',\n",
    "#     'S1A_IW_SLC__1SDV_20210210T025526_20210210T025553_036522_0449E2_7769',\n",
    "#     'S1A_IW_SLC__1SDV_20210210T025501_20210210T025528_036522_0449E2_3917',\n",
    "#     'S1B_IW_SLC__1SDV_20210209T030255_20210209T030323_025524_030A8D_7E88',\n",
    "#     'S1B_IW_SLC__1SDV_20210209T030227_20210209T030257_025524_030A8D_5BAF',\n",
    "#     'S1A_IW_SLC__1SDV_20210202T154835_20210202T154902_036413_044634_01A1',\n",
    "# ]\n"
   ]
  },
  {
   "cell_type": "code",
   "execution_count": 25,
   "metadata": {},
   "outputs": [],
   "source": [
    "wkt = 'POLYGON((-135.7 58.2,-136.6 58.1,-135.8 56.9,-134.6 56.1,-134.9 58.0,-135.7 58.2))'\n",
    "singletons = asf.geo_search(platform=[asf.PLATFORM.SENTINEL1], \n",
    "        processingLevel=asf.PRODUCT_TYPE.SLC,\n",
    "        beamMode=asf.BEAMMODE.IW,\n",
    "        flightDirection=asf.FLIGHT_DIRECTION.DESCENDING,\n",
    "        intersectsWith=wkt, maxResults=10)\n"
   ]
  },
  {
   "cell_type": "markdown",
   "metadata": {},
   "source": [
    "write to a csv file"
   ]
  },
  {
   "cell_type": "code",
   "execution_count": 26,
   "metadata": {},
   "outputs": [],
   "source": [
    "with open(\"singletons.csv\", \"w\") as f:\n",
    "   f.writelines(singletons.csv())"
   ]
  },
  {
   "cell_type": "markdown",
   "metadata": {},
   "source": [
    "The output can be also previewed in the terminal"
   ]
  },
  {
   "cell_type": "code",
   "execution_count": 28,
   "metadata": {},
   "outputs": [
    {
     "name": "stdout",
     "output_type": "stream",
     "text": [
      "\"Granule Name\",\"Platform\",\"Sensor\",\"Beam Mode\",\"Beam Mode Description\",\"Orbit\",\"Path Number\",\"Frame Number\",\"Acquisition Date\",\"Processing Date\",\"Processing Level\",\"Start Time\",\"End Time\",\"Center Lat\",\"Center Lon\",\"Near Start Lat\",\"Near Start Lon\",\"Far Start Lat\",\"Far Start Lon\",\"Near End Lat\",\"Near End Lon\",\"Far End Lat\",\"Far End Lon\",\"Faraday Rotation\",\"Ascending or Descending?\",\"URL\",\"Size (MB)\",\"Off Nadir Angle\",\"Stack Size\",\"Doppler\",\"GroupID\",\"Pointing Angle\",\"TemporalBaseline\",\"PerpendicularBaseline\",\"relativeBurstID\",\"absoluteBurstID\",\"fullBurstID\",\"burstIndex\",\"azimuthTime\",\"azimuthAnxTime\",\"samplesPerBurst\",\"subswath\"\n",
      "\"S1B_IW_SLC__1SDV_20211221T151627_20211221T151653_030125_0398E3_F090\",\"Sentinel-1B\",\"C-SAR\",\"IW\",\"Interferometric Wide. 250 km swath, 5 m x 20 m spatial resolution and burst synchronization for interferometry. IW is considered to be the standard mode over land masses.\",\"30125\",\"174\",\"407\",\"2021-12-21T15:16:53.971011Z\",\"2021-12-21T15:16:27Z\",\"SLC\",\"2021-12-21T15:16:27Z\",\"2021-12-21T15:16:53Z\",\"55.6022\",\"-134.9418\",\"56.186565\",\"-132.660294\",\"56.593822\",\"-136.720337\",\"54.580475\",\"-133.260666\",\"54.982838\",\"-137.155685\",\"\",\"DESCENDING\",\"https://datapool.asf.alaska.edu/SLC/SB/S1B_IW_SLC__1SDV_20211221T151627_20211221T151653_030125_0398E3_F090.zip\",\"3699.0988454818726\",\"\",\"\",\"0\",\"S1B_IWDV_0406_0413_030125_174\",\"\",\"\",\"\",\"\",\"\",\"\",\"\",\"\",\"\",\"\",\"\"\n",
      "\"S1B_IW_SLC__1SDV_20211221T151602_20211221T151629_030125_0398E3_1C5A\",\"Sentinel-1B\",\"C-SAR\",\"IW\",\"Interferometric Wide. 250 km swath, 5 m x 20 m spatial resolution and burst synchronization for interferometry. IW is considered to be the standard mode over land masses.\",\"30125\",\"174\",\"402\",\"2021-12-21T15:16:29.137836Z\",\"2021-12-21T15:16:02Z\",\"SLC\",\"2021-12-21T15:16:02Z\",\"2021-12-21T15:16:29Z\",\"57.0839\",\"-134.4534\",\"57.66375\",\"-132.076355\",\"58.076385\",\"-136.302826\",\"56.059772\",\"-132.710831\",\"56.466476\",\"-136.7565\",\"\",\"DESCENDING\",\"https://datapool.asf.alaska.edu/SLC/SB/S1B_IW_SLC__1SDV_20211221T151602_20211221T151629_030125_0398E3_1C5A.zip\",\"3979.093101501465\",\"\",\"\",\"0\",\"S1B_IWDV_0401_0408_030125_174\",\"\",\"\",\"\",\"\",\"\",\"\",\"\",\"\",\"\",\"\",\"\"\n",
      "\"S1B_IW_SLC__1SDV_20211221T151537_20211221T151604_030125_0398E3_8E58\",\"Sentinel-1B\",\"C-SAR\",\"IW\",\"Interferometric Wide. 250 km swath, 5 m x 20 m spatial resolution and burst synchronization for interferometry. IW is considered to be the standard mode over land masses.\",\"30125\",\"174\",\"397\",\"2021-12-21T15:16:04.312882Z\",\"2021-12-21T15:15:37Z\",\"SLC\",\"2021-12-21T15:15:37Z\",\"2021-12-21T15:16:04Z\",\"58.5643\",\"-133.9463\",\"59.139439\",\"-131.46553\",\"59.557938\",\"-135.871185\",\"57.53775\",\"-132.138626\",\"57.94915\",\"-136.345734\",\"\",\"DESCENDING\",\"https://datapool.asf.alaska.edu/SLC/SB/S1B_IW_SLC__1SDV_20211221T151537_20211221T151604_030125_0398E3_8E58.zip\",\"4167.22755241394\",\"\",\"\",\"0\",\"S1B_IWDV_0396_0403_030125_174\",\"\",\"\",\"\",\"\",\"\",\"\",\"\",\"\",\"\",\"\",\"\"\n",
      "\"S1B_IW_SLC__1SDV_20211219T153229_20211219T153256_030096_0397FC_F098\",\"Sentinel-1B\",\"C-SAR\",\"IW\",\"Interferometric Wide. 250 km swath, 5 m x 20 m spatial resolution and burst synchronization for interferometry. IW is considered to be the standard mode over land masses.\",\"30096\",\"145\",\"402\",\"2021-12-19T15:32:56.559983Z\",\"2021-12-19T15:32:29Z\",\"SLC\",\"2021-12-19T15:32:29Z\",\"2021-12-19T15:32:56Z\",\"57.0995\",\"-138.5723\",\"57.681019\",\"-136.205643\",\"58.091148\",\"-140.410995\",\"56.076622\",\"-136.839737\",\"56.480865\",\"-140.865051\",\"\",\"DESCENDING\",\"https://datapool.asf.alaska.edu/SLC/SB/S1B_IW_SLC__1SDV_20211219T153229_20211219T153256_030096_0397FC_F098.zip\",\"3355.827925682068\",\"\",\"\",\"0\",\"S1B_IWDV_0401_0408_030096_145\",\"\",\"\",\"\",\"\",\"\",\"\",\"\",\"\",\"\",\"\",\"\"\n",
      "\"S1B_IW_SLC__1SDV_20211219T153204_20211219T153231_030096_0397FC_EE84\",\"Sentinel-1B\",\"C-SAR\",\"IW\",\"Interferometric Wide. 250 km swath, 5 m x 20 m spatial resolution and burst synchronization for interferometry. IW is considered to be the standard mode over land masses.\",\"30096\",\"145\",\"397\",\"2021-12-19T15:32:31.724752Z\",\"2021-12-19T15:32:04Z\",\"SLC\",\"2021-12-19T15:32:04Z\",\"2021-12-19T15:32:31Z\",\"58.5796\",\"-138.0567\",\"59.155651\",\"-135.584351\",\"59.572346\",\"-139.972626\",\"57.554058\",\"-136.257324\",\"57.963676\",\"-140.447754\",\"\",\"DESCENDING\",\"https://datapool.asf.alaska.edu/SLC/SB/S1B_IW_SLC__1SDV_20211219T153204_20211219T153231_030096_0397FC_EE84.zip\",\"3558.525059700012\",\"\",\"\",\"0\",\"S1B_IWDV_0396_0403_030096_145\",\"\",\"\",\"\",\"\",\"\",\"\",\"\",\"\",\"\",\"\",\"\"\n",
      "\"S1B_IW_SLC__1SDV_20211216T150818_20211216T150845_030052_03969D_4228\",\"Sentinel-1B\",\"C-SAR\",\"IW\",\"Interferometric Wide. 250 km swath, 5 m x 20 m spatial resolution and burst synchronization for interferometry. IW is considered to be the standard mode over land masses.\",\"30052\",\"101\",\"408\",\"2021-12-16T15:08:45.505427Z\",\"2021-12-16T15:08:18Z\",\"SLC\",\"2021-12-16T15:08:18Z\",\"2021-12-16T15:08:45Z\",\"55.3173\",\"-132.976\",\"55.902298\",\"-130.711838\",\"56.308647\",\"-134.741684\",\"54.295979\",\"-131.306122\",\"54.697617\",\"-135.173752\",\"\",\"DESCENDING\",\"https://datapool.asf.alaska.edu/SLC/SB/S1B_IW_SLC__1SDV_20211216T150818_20211216T150845_030052_03969D_4228.zip\",\"3680.9498720169067\",\"\",\"\",\"0\",\"S1B_IWDV_0408_0413_030052_101\",\"\",\"\",\"\",\"\",\"\",\"\",\"\",\"\",\"\",\"\",\"\"\n",
      "\"S1B_IW_SLC__1SDV_20211216T150753_20211216T150820_030052_03969D_8320\",\"Sentinel-1B\",\"C-SAR\",\"IW\",\"Interferometric Wide. 250 km swath, 5 m x 20 m spatial resolution and burst synchronization for interferometry. IW is considered to be the standard mode over land masses.\",\"30052\",\"101\",\"403\",\"2021-12-16T15:08:20.680474Z\",\"2021-12-16T15:07:53Z\",\"SLC\",\"2021-12-16T15:07:53Z\",\"2021-12-16T15:08:20Z\",\"56.7986\",\"-132.4922\",\"57.379322\",\"-130.134247\",\"57.790871\",\"-134.327621\",\"55.775078\",\"-130.761749\",\"56.180908\",\"-134.777527\",\"\",\"DESCENDING\",\"https://datapool.asf.alaska.edu/SLC/SB/S1B_IW_SLC__1SDV_20211216T150753_20211216T150820_030052_03969D_8320.zip\",\"4130.063676834106\",\"\",\"\",\"0\",\"S1B_IWDV_0403_0408_030052_101\",\"\",\"\",\"\",\"\",\"\",\"\",\"\",\"\",\"\",\"\",\"\"\n",
      "\"S1B_IW_SLC__1SDV_20211209T151627_20211209T151654_029950_039358_E42D\",\"Sentinel-1B\",\"C-SAR\",\"IW\",\"Interferometric Wide. 250 km swath, 5 m x 20 m spatial resolution and burst synchronization for interferometry. IW is considered to be the standard mode over land masses.\",\"29950\",\"174\",\"407\",\"2021-12-09T15:16:54.686331Z\",\"2021-12-09T15:16:27Z\",\"SLC\",\"2021-12-09T15:16:27Z\",\"2021-12-09T15:16:54Z\",\"55.602\",\"-134.9408\",\"56.186401\",\"-132.659225\",\"56.593758\",\"-136.719284\",\"54.579956\",\"-133.259857\",\"54.982414\",\"-137.154846\",\"\",\"DESCENDING\",\"https://datapool.asf.alaska.edu/SLC/SB/S1B_IW_SLC__1SDV_20211209T151627_20211209T151654_029950_039358_E42D.zip\",\"3846.3544778823853\",\"\",\"\",\"0\",\"S1B_IWDV_0406_0413_029950_174\",\"\",\"\",\"\",\"\",\"\",\"\",\"\",\"\",\"\",\"\",\"\"\n",
      "\"S1B_IW_SLC__1SDV_20211209T151602_20211209T151629_029950_039358_FF78\",\"Sentinel-1B\",\"C-SAR\",\"IW\",\"Interferometric Wide. 250 km swath, 5 m x 20 m spatial resolution and burst synchronization for interferometry. IW is considered to be the standard mode over land masses.\",\"29950\",\"174\",\"402\",\"2021-12-09T15:16:29.842878Z\",\"2021-12-09T15:16:02Z\",\"SLC\",\"2021-12-09T15:16:02Z\",\"2021-12-09T15:16:29Z\",\"57.0839\",\"-134.4523\",\"57.663696\",\"-132.07515\",\"58.076435\",\"-136.301636\",\"56.059853\",\"-132.709686\",\"56.46666\",\"-136.755386\",\"\",\"DESCENDING\",\"https://datapool.asf.alaska.edu/SLC/SB/S1B_IW_SLC__1SDV_20211209T151602_20211209T151629_029950_039358_FF78.zip\",\"3991.837755203247\",\"\",\"\",\"0\",\"S1B_IWDV_0401_0408_029950_174\",\"\",\"\",\"\",\"\",\"\",\"\",\"\",\"\",\"\",\"\",\"\"\n",
      "\"S1B_IW_SLC__1SDV_20211209T151538_20211209T151605_029950_039358_5BFE\",\"Sentinel-1B\",\"C-SAR\",\"IW\",\"Interferometric Wide. 250 km swath, 5 m x 20 m spatial resolution and burst synchronization for interferometry. IW is considered to be the standard mode over land masses.\",\"29950\",\"174\",\"397\",\"2021-12-09T15:16:05.022035Z\",\"2021-12-09T15:15:38Z\",\"SLC\",\"2021-12-09T15:15:38Z\",\"2021-12-09T15:16:05Z\",\"58.5642\",\"-133.9451\",\"59.139252\",\"-131.464249\",\"59.557858\",\"-135.869904\",\"57.537575\",\"-132.137466\",\"57.949081\",\"-136.344589\",\"\",\"DESCENDING\",\"https://datapool.asf.alaska.edu/SLC/SB/S1B_IW_SLC__1SDV_20211209T151538_20211209T151605_029950_039358_5BFE.zip\",\"4139.6100730896\",\"\",\"\",\"0\",\"S1B_IWDV_0396_0403_029950_174\",\"\",\"\",\"\",\"\",\"\",\"\",\"\",\"\",\"\",\"\",\"\"\n",
      "\n"
     ]
    }
   ],
   "source": [
    "print(*singletons.csv(), sep='')"
   ]
  },
  {
   "cell_type": "markdown",
   "metadata": {},
   "source": []
  },
  {
   "cell_type": "code",
   "execution_count": 29,
   "metadata": {},
   "outputs": [
    {
     "name": "stdout",
     "output_type": "stream",
     "text": [
      "sceneName is S1B_IW_SLC__1SDV_20211221T151627_20211221T151653_030125_0398E3_F090, frameNumber is 407, startTime is 2021-12-21T15:16:27Z False\n",
      "sceneName is S1B_IW_SLC__1SDV_20211221T151602_20211221T151629_030125_0398E3_1C5A, frameNumber is 402, startTime is 2021-12-21T15:16:02Z False\n",
      "sceneName is S1B_IW_SLC__1SDV_20211221T151537_20211221T151604_030125_0398E3_8E58, frameNumber is 397, startTime is 2021-12-21T15:15:37Z False\n",
      "sceneName is S1B_IW_SLC__1SDV_20211219T153229_20211219T153256_030096_0397FC_F098, frameNumber is 402, startTime is 2021-12-19T15:32:29Z False\n",
      "sceneName is S1B_IW_SLC__1SDV_20211219T153204_20211219T153231_030096_0397FC_EE84, frameNumber is 397, startTime is 2021-12-19T15:32:04Z False\n",
      "sceneName is S1B_IW_SLC__1SDV_20211216T150818_20211216T150845_030052_03969D_4228, frameNumber is 408, startTime is 2021-12-16T15:08:18Z False\n",
      "sceneName is S1B_IW_SLC__1SDV_20211216T150753_20211216T150820_030052_03969D_8320, frameNumber is 403, startTime is 2021-12-16T15:07:53Z False\n",
      "sceneName is S1B_IW_SLC__1SDV_20211209T151627_20211209T151654_029950_039358_E42D, frameNumber is 407, startTime is 2021-12-09T15:16:27Z False\n",
      "sceneName is S1B_IW_SLC__1SDV_20211209T151602_20211209T151629_029950_039358_FF78, frameNumber is 402, startTime is 2021-12-09T15:16:02Z False\n",
      "sceneName is S1B_IW_SLC__1SDV_20211209T151538_20211209T151605_029950_039358_5BFE, frameNumber is 397, startTime is 2021-12-09T15:15:38Z False\n",
      "['S1B_IW_SLC__1SDV_20211221T151627_20211221T151653_030125_0398E3_F090', 'S1B_IW_SLC__1SDV_20211221T151602_20211221T151629_030125_0398E3_1C5A', 'S1B_IW_SLC__1SDV_20211221T151537_20211221T151604_030125_0398E3_8E58', 'S1B_IW_SLC__1SDV_20211219T153229_20211219T153256_030096_0397FC_F098', 'S1B_IW_SLC__1SDV_20211219T153204_20211219T153231_030096_0397FC_EE84', 'S1B_IW_SLC__1SDV_20211216T150818_20211216T150845_030052_03969D_4228', 'S1B_IW_SLC__1SDV_20211216T150753_20211216T150820_030052_03969D_8320', 'S1B_IW_SLC__1SDV_20211209T151627_20211209T151654_029950_039358_E42D', 'S1B_IW_SLC__1SDV_20211209T151602_20211209T151629_029950_039358_FF78', 'S1B_IW_SLC__1SDV_20211209T151538_20211209T151605_029950_039358_5BFE']\n"
     ]
    }
   ],
   "source": [
    "\n",
    "i=0\n",
    "sceneNames=[]\n",
    "for result1 in singletons:\n",
    "        #getattr(result1.properties,'sceneName')\n",
    "        #properties = [attr for attr in dir(result1) if not callable(getattr(result1[0], attr)) and not attr.startswith('__')]\n",
    "        # for property1 in properties:\n",
    "        #         print(f'property1 is {property1}')\n",
    "         \n",
    "        i=i+1       \n",
    "        frameNumber=result1.properties['frameNumber']\n",
    "        startTime=result1.properties['startTime']\n",
    "        stopTime=result1.properties['stopTime']\n",
    "        sceneName=result1.properties['sceneName']\n",
    "        print(f'sceneName is {sceneName}, frameNumber is {frameNumber}, startTime is {startTime}', stopTime is {stopTime})\n",
    "\n",
    "                #sceneNames=sceneNames, f\"{sceneName}\"\n",
    "        sceneNames.append(sceneName)\n",
    "\n",
    "print(f\"{sceneNames}\")\n",
    "                \n",
    "                "
   ]
  },
  {
   "cell_type": "markdown",
   "metadata": {
    "pycharm": {
     "name": "#%% md\n"
    }
   },
   "source": [
    "\n",
    "\n",
    "For a particular reference granule, we may want to use the nearest and next-nearest temporal neighbor granules as secondary\n",
    "scenes. To programmatically find our secondary granules for a reference granule, We'll define a `get_nearest_neighbors`\n",
    "function that uses the [baseline stack](https://docs.asf.alaska.edu/asf_search/ASFProduct/#stack) method from `asf_search`:"
   ]
  },
  {
   "cell_type": "code",
   "execution_count": 31,
   "metadata": {
    "collapsed": false,
    "pycharm": {
     "name": "#%%\n"
    }
   },
   "outputs": [],
   "source": [
    "from typing import Optional\n",
    "\n",
    "def get_nearest_neighbors(granule: str, max_neighbors: Optional[int] = None) -> asf.ASFSearchResults:\n",
    "    granule = asf.granule_search(granule)[-1]\n",
    "    stack = reversed([item for item in granule.stack() if item.properties['temporalBaseline'] < 0]) \n",
    "    print(f'stack is {stack}')\n",
    "    return asf.ASFSearchResults(stack)[:max_neighbors]"
   ]
  },
  {
   "cell_type": "code",
   "execution_count": null,
   "metadata": {},
   "outputs": [],
   "source": [
    "\n"
   ]
  },
  {
   "cell_type": "markdown",
   "metadata": {
    "collapsed": false,
    "pycharm": {
     "name": "#%% md\n"
    }
   },
   "source": [
    "Now, using the example granule list for our RTC jobs as the reference scenes, we can find their nearest and next-nearest neighbor granules, and submit them\n",
    "as pairs for InSAR processing."
   ]
  },
  {
   "cell_type": "markdown",
   "metadata": {},
   "source": [
    "#from tqdm.auto import tqdm  # For a nice progress bar: https://github.com/tqdm/tqdm#ipython-jupyter-integration\n",
    "\n",
    "#for reference in tqdm(granules):"
   ]
  },
  {
   "cell_type": "code",
   "execution_count": 40,
   "metadata": {},
   "outputs": [
    {
     "name": "stdout",
     "output_type": "stream",
     "text": [
      "reference is S1B_IW_SLC__1SDV_20211221T151627_20211221T151653_030125_0398E3_F090\n",
      "stack is <list_reverseiterator object at 0x7f63aac1a320>\n",
      "S1B_IW_SLC__1SDV_20211221T151627_20211221T151653_030125_0398E3_F090,S1B_IW_SLC__1SDV_20211209T151627_20211209T151654_029950_039358_E42D,-51 m, -12 days\n",
      "S1B_IW_SLC__1SDV_20211221T151627_20211221T151653_030125_0398E3_F090,S1B_IW_SLC__1SDV_20211127T151628_20211127T151655_029775_038DCF_9FA1,-35 m, -24 days\n",
      "reference is S1B_IW_SLC__1SDV_20211221T151602_20211221T151629_030125_0398E3_1C5A\n",
      "stack is <list_reverseiterator object at 0x7f63a8fe2aa0>\n",
      "S1B_IW_SLC__1SDV_20211221T151602_20211221T151629_030125_0398E3_1C5A,S1B_IW_SLC__1SDV_20211209T151602_20211209T151629_029950_039358_FF78,-53 m, -12 days\n",
      "S1B_IW_SLC__1SDV_20211221T151602_20211221T151629_030125_0398E3_1C5A,S1B_IW_SLC__1SDV_20211127T151603_20211127T151630_029775_038DCF_4D4C,-38 m, -24 days\n",
      "reference is S1B_IW_SLC__1SDV_20211221T151537_20211221T151604_030125_0398E3_8E58\n",
      "stack is <list_reverseiterator object at 0x7f63aac1a320>\n",
      "S1B_IW_SLC__1SDV_20211221T151537_20211221T151604_030125_0398E3_8E58,S1B_IW_SLC__1SDV_20211209T151538_20211209T151605_029950_039358_5BFE,-59 m, -12 days\n",
      "S1B_IW_SLC__1SDV_20211221T151537_20211221T151604_030125_0398E3_8E58,S1B_IW_SLC__1SDV_20211127T151538_20211127T151605_029775_038DCF_4924,-41 m, -24 days\n",
      "reference is S1B_IW_SLC__1SDV_20211219T153229_20211219T153256_030096_0397FC_F098\n",
      "stack is <list_reverseiterator object at 0x7f63a9c29300>\n",
      "S1B_IW_SLC__1SDV_20211219T153229_20211219T153256_030096_0397FC_F098,S1B_IW_SLC__1SDV_20211207T153230_20211207T153257_029921_03926D_EC37,-49 m, -12 days\n",
      "S1B_IW_SLC__1SDV_20211219T153229_20211219T153256_030096_0397FC_F098,S1B_IW_SLC__1SDV_20211125T153230_20211125T153257_029746_038CEE_734D,-56 m, -24 days\n",
      "reference is S1B_IW_SLC__1SDV_20211219T153204_20211219T153231_030096_0397FC_EE84\n",
      "stack is <list_reverseiterator object at 0x7f63aa774250>\n",
      "S1B_IW_SLC__1SDV_20211219T153204_20211219T153231_030096_0397FC_EE84,S1B_IW_SLC__1SDV_20211207T153205_20211207T153232_029921_03926D_358D,-47 m, -12 days\n",
      "S1B_IW_SLC__1SDV_20211219T153204_20211219T153231_030096_0397FC_EE84,S1B_IW_SLC__1SDV_20211125T153205_20211125T153232_029746_038CEE_917F,-59 m, -24 days\n",
      "reference is S1B_IW_SLC__1SDV_20211216T150818_20211216T150845_030052_03969D_4228\n",
      "stack is <list_reverseiterator object at 0x7f63aa426830>\n",
      "S1B_IW_SLC__1SDV_20211216T150818_20211216T150845_030052_03969D_4228,S1B_IW_SLC__1SDV_20211122T150819_20211122T150846_029702_038B96_FC7E,39 m, -24 days\n",
      "S1B_IW_SLC__1SDV_20211216T150818_20211216T150845_030052_03969D_4228,S1B_IW_SLC__1SDV_20211110T150819_20211110T150846_029527_03862D_319C,-114 m, -36 days\n",
      "reference is S1B_IW_SLC__1SDV_20211216T150753_20211216T150820_030052_03969D_8320\n",
      "stack is <list_reverseiterator object at 0x7f63a96ee7a0>\n",
      "S1B_IW_SLC__1SDV_20211216T150753_20211216T150820_030052_03969D_8320,S1B_IW_SLC__1SDV_20211122T150754_20211122T150821_029702_038B96_A952,44 m, -24 days\n",
      "S1B_IW_SLC__1SDV_20211216T150753_20211216T150820_030052_03969D_8320,S1B_IW_SLC__1SDV_20211110T150754_20211110T150821_029527_03862D_6A4E,-117 m, -36 days\n",
      "reference is S1B_IW_SLC__1SDV_20211209T151627_20211209T151654_029950_039358_E42D\n",
      "stack is <list_reverseiterator object at 0x7f63a8763e80>\n",
      "S1B_IW_SLC__1SDV_20211209T151627_20211209T151654_029950_039358_E42D,S1B_IW_SLC__1SDV_20211209T151627_20211209T151654_029950_039358_E42D,-51 m, -12 days\n",
      "S1B_IW_SLC__1SDV_20211209T151627_20211209T151654_029950_039358_E42D,S1B_IW_SLC__1SDV_20211127T151628_20211127T151655_029775_038DCF_9FA1,-35 m, -24 days\n",
      "reference is S1B_IW_SLC__1SDV_20211209T151602_20211209T151629_029950_039358_FF78\n",
      "stack is <list_reverseiterator object at 0x7f63a86d73d0>\n",
      "S1B_IW_SLC__1SDV_20211209T151602_20211209T151629_029950_039358_FF78,S1B_IW_SLC__1SDV_20211209T151602_20211209T151629_029950_039358_FF78,-53 m, -12 days\n",
      "S1B_IW_SLC__1SDV_20211209T151602_20211209T151629_029950_039358_FF78,S1B_IW_SLC__1SDV_20211127T151603_20211127T151630_029775_038DCF_4D4C,-38 m, -24 days\n",
      "reference is S1B_IW_SLC__1SDV_20211209T151538_20211209T151605_029950_039358_5BFE\n",
      "stack is <list_reverseiterator object at 0x7f63aa774250>\n",
      "S1B_IW_SLC__1SDV_20211209T151538_20211209T151605_029950_039358_5BFE,S1B_IW_SLC__1SDV_20211209T151538_20211209T151605_029950_039358_5BFE,-59 m, -12 days\n",
      "S1B_IW_SLC__1SDV_20211209T151538_20211209T151605_029950_039358_5BFE,S1B_IW_SLC__1SDV_20211127T151538_20211127T151605_029775_038DCF_4924,-41 m, -24 days\n"
     ]
    }
   ],
   "source": [
    "npairs=0;\n",
    "pairs=[]\n",
    "for reference1 in sceneNames:\n",
    "    print(f'reference is {reference1}')\n",
    "    #sceneName1=reference1.properties['sceneName']\n",
    "    neighbors = get_nearest_neighbors(reference1, max_neighbors=2)\n",
    "    \n",
    "    # frameNumber=neighbors[0].properties['frameNumber']\n",
    "    # print(f'frameNumber is {frameNumber}')\n",
    "    for neighbor1 in neighbors:\n",
    "        \n",
    "        #print(f\"{neighbor1.properties}\")\n",
    "        timeSpanInDays=neighbor1.properties['temporalBaseline']\n",
    "        perpendicularBaseline=neighbor1.properties['perpendicularBaseline']\n",
    "        sceneName2=neighbor1.properties['sceneName']\n",
    "        print(f'{reference1},{sceneName2},{perpendicularBaseline} m, {timeSpanInDays} days')\n",
    "        pairs.append(f'{reference1},{sceneName2},{perpendicularBaseline} m, {timeSpanInDays} days')\n",
    "        \n",
    "    \n",
    "    \n",
    "    \n",
    "    "
   ]
  },
  {
   "cell_type": "code",
   "execution_count": 41,
   "metadata": {},
   "outputs": [
    {
     "name": "stdout",
     "output_type": "stream",
     "text": [
      "pairs ['S1B_IW_SLC__1SDV_20211221T151627_20211221T151653_030125_0398E3_F090,S1B_IW_SLC__1SDV_20211209T151627_20211209T151654_029950_039358_E42D,-51 m, -12 days', 'S1B_IW_SLC__1SDV_20211221T151627_20211221T151653_030125_0398E3_F090,S1B_IW_SLC__1SDV_20211127T151628_20211127T151655_029775_038DCF_9FA1,-35 m, -24 days', 'S1B_IW_SLC__1SDV_20211221T151602_20211221T151629_030125_0398E3_1C5A,S1B_IW_SLC__1SDV_20211209T151602_20211209T151629_029950_039358_FF78,-53 m, -12 days', 'S1B_IW_SLC__1SDV_20211221T151602_20211221T151629_030125_0398E3_1C5A,S1B_IW_SLC__1SDV_20211127T151603_20211127T151630_029775_038DCF_4D4C,-38 m, -24 days', 'S1B_IW_SLC__1SDV_20211221T151537_20211221T151604_030125_0398E3_8E58,S1B_IW_SLC__1SDV_20211209T151538_20211209T151605_029950_039358_5BFE,-59 m, -12 days', 'S1B_IW_SLC__1SDV_20211221T151537_20211221T151604_030125_0398E3_8E58,S1B_IW_SLC__1SDV_20211127T151538_20211127T151605_029775_038DCF_4924,-41 m, -24 days', 'S1B_IW_SLC__1SDV_20211219T153229_20211219T153256_030096_0397FC_F098,S1B_IW_SLC__1SDV_20211207T153230_20211207T153257_029921_03926D_EC37,-49 m, -12 days', 'S1B_IW_SLC__1SDV_20211219T153229_20211219T153256_030096_0397FC_F098,S1B_IW_SLC__1SDV_20211125T153230_20211125T153257_029746_038CEE_734D,-56 m, -24 days', 'S1B_IW_SLC__1SDV_20211219T153204_20211219T153231_030096_0397FC_EE84,S1B_IW_SLC__1SDV_20211207T153205_20211207T153232_029921_03926D_358D,-47 m, -12 days', 'S1B_IW_SLC__1SDV_20211219T153204_20211219T153231_030096_0397FC_EE84,S1B_IW_SLC__1SDV_20211125T153205_20211125T153232_029746_038CEE_917F,-59 m, -24 days', 'S1B_IW_SLC__1SDV_20211216T150818_20211216T150845_030052_03969D_4228,S1B_IW_SLC__1SDV_20211122T150819_20211122T150846_029702_038B96_FC7E,39 m, -24 days', 'S1B_IW_SLC__1SDV_20211216T150818_20211216T150845_030052_03969D_4228,S1B_IW_SLC__1SDV_20211110T150819_20211110T150846_029527_03862D_319C,-114 m, -36 days', 'S1B_IW_SLC__1SDV_20211216T150753_20211216T150820_030052_03969D_8320,S1B_IW_SLC__1SDV_20211122T150754_20211122T150821_029702_038B96_A952,44 m, -24 days', 'S1B_IW_SLC__1SDV_20211216T150753_20211216T150820_030052_03969D_8320,S1B_IW_SLC__1SDV_20211110T150754_20211110T150821_029527_03862D_6A4E,-117 m, -36 days', 'S1B_IW_SLC__1SDV_20211209T151627_20211209T151654_029950_039358_E42D,S1B_IW_SLC__1SDV_20211209T151627_20211209T151654_029950_039358_E42D,-51 m, -12 days', 'S1B_IW_SLC__1SDV_20211209T151627_20211209T151654_029950_039358_E42D,S1B_IW_SLC__1SDV_20211127T151628_20211127T151655_029775_038DCF_9FA1,-35 m, -24 days', 'S1B_IW_SLC__1SDV_20211209T151602_20211209T151629_029950_039358_FF78,S1B_IW_SLC__1SDV_20211209T151602_20211209T151629_029950_039358_FF78,-53 m, -12 days', 'S1B_IW_SLC__1SDV_20211209T151602_20211209T151629_029950_039358_FF78,S1B_IW_SLC__1SDV_20211127T151603_20211127T151630_029775_038DCF_4D4C,-38 m, -24 days', 'S1B_IW_SLC__1SDV_20211209T151538_20211209T151605_029950_039358_5BFE,S1B_IW_SLC__1SDV_20211209T151538_20211209T151605_029950_039358_5BFE,-59 m, -12 days', 'S1B_IW_SLC__1SDV_20211209T151538_20211209T151605_029950_039358_5BFE,S1B_IW_SLC__1SDV_20211127T151538_20211127T151605_029775_038DCF_4924,-41 m, -24 days']\n"
     ]
    }
   ],
   "source": [
    "print(f'pairs {pairs}')\n",
    "with open(\"pairs.csv\", \"a\") as f:\n",
    "        f.writelines(pairs.csv())"
   ]
  },
  {
   "cell_type": "markdown",
   "metadata": {},
   "source": []
  },
  {
   "cell_type": "markdown",
   "metadata": {},
   "source": []
  },
  {
   "cell_type": "markdown",
   "metadata": {
    "pycharm": {
     "name": "#%% md\n"
    }
   },
   "source": [
    "Like RTC jobs, `HyP3.submit_insar_job` accepts\n",
    "[keyword arguments](https://hyp3-docs.asf.alaska.edu/using/sdk_api/#hyp3_sdk.hyp3.HyP3.submit_insar_job)\n",
    "to customize the InSAR products to your application."
   ]
  },
  {
   "cell_type": "markdown",
   "metadata": {},
   "source": [
    "### Submitting autoRIFT jobs\n",
    "\n",
    "AutoRIFT supports processing Sentinel-1, Sentinel-2, or Landsat-8 Collection 2 pairs.\n",
    "* Sentinel-1 jobs are submitted using [ESA granule IDs](https://sentinel.esa.int/web/sentinel/user-guides/sentinel-1-sar/naming-conventions)\n",
    "* Sentinel-2 jobs are submitted using [ESA granule IDs](https://sentinel.esa.int/web/sentinel/user-guides/sentinel-2-msi/naming-convention)\n",
    "* Landsat-8 Collection 2 jobs are submitted using [USGS scene IDs](https://www.usgs.gov/faqs/what-naming-convention-landsat-collection-2-level-1-and-level-2-scenes?qt-news_science_products=0#qt-news_science_products)"
   ]
  },
  {
   "cell_type": "code",
   "execution_count": null,
   "metadata": {},
   "outputs": [],
   "source": [
    "autorift_pairs = [\n",
    "    # Sentinel-1 ESA granule IDs\n",
    "    ('S1A_IW_SLC__1SSH_20170221T204710_20170221T204737_015387_0193F6_AB07',\n",
    "     'S1B_IW_SLC__1SSH_20170227T204628_20170227T204655_004491_007D11_6654'),\n",
    "    # Sentinel-2 ESA granule IDs\n",
    "    ('S2B_MSIL1C_20200612T150759_N0209_R025_T22WEB_20200612T184700',\n",
    "     'S2A_MSIL1C_20200627T150921_N0209_R025_T22WEB_20200627T170912'),\n",
    "    # Landsat 8\n",
    "    ('LC08_L1TP_009011_20200703_20200913_02_T1',\n",
    "     'LC08_L1TP_009011_20200820_20200905_02_T1'),\n",
    "]\n",
    "\n",
    "autorift_jobs = sdk.Batch()\n",
    "for reference, secondary in autorift_pairs:\n",
    "    autorift_jobs += hyp3.submit_autorift_job(reference, secondary, name='autorift-example')\n",
    "print(autorift_jobs)"
   ]
  },
  {
   "cell_type": "markdown",
   "metadata": {},
   "source": [
    "AutoRIFT does not currently accept any keyword arguments for product customization.\n",
    "\n",
    "## Monitoring jobs\n",
    "\n",
    "One jobs are submitted, you can either watch the jobs until they finish"
   ]
  },
  {
   "cell_type": "code",
   "execution_count": null,
   "metadata": {},
   "outputs": [],
   "source": [
    "rtc_jobs = hyp3.watch(rtc_jobs)"
   ]
  },
  {
   "cell_type": "markdown",
   "metadata": {},
   "source": [
    "which will require you to keep the cell/terminal running, or you can come back later and search for jobs"
   ]
  },
  {
   "cell_type": "code",
   "execution_count": null,
   "metadata": {},
   "outputs": [],
   "source": [
    "rtc_jobs = hyp3.find_jobs(name='rtc-example')\n",
    "rtc_jobs = hyp3.watch(rtc_jobs)"
   ]
  },
  {
   "cell_type": "markdown",
   "metadata": {},
   "source": [
    "### Downloading files\n",
    "\n",
    "Batches are collections of jobs. They provide a snapshot of the job status when the job was created or last\n",
    "refreshed. To get updated information on a batch"
   ]
  },
  {
   "cell_type": "code",
   "execution_count": null,
   "metadata": {},
   "outputs": [],
   "source": [
    "print(insar_jobs)\n",
    "insar_jobs = hyp3.refresh(insar_jobs)\n",
    "print(insar_jobs)"
   ]
  },
  {
   "cell_type": "markdown",
   "metadata": {},
   "source": [
    "`hyp3.watch()` will return a refreshed batch once every job in the batch has completed.\n",
    "\n",
    "Batches can be added together"
   ]
  },
  {
   "cell_type": "code",
   "execution_count": null,
   "metadata": {},
   "outputs": [],
   "source": [
    "print(f'Number of Jobs:\\n  RTC:{len(rtc_jobs)}\\n  InSAR:{len(insar_jobs)}\\n  autoRIFT:{len(autorift_jobs)}')\n",
    "all_jobs = rtc_jobs + insar_jobs + autorift_jobs\n",
    "print(f'Total number of Jobs: {len(all_jobs)}')"
   ]
  },
  {
   "cell_type": "markdown",
   "metadata": {},
   "source": [
    "You can check the status of a batch (at last refresh) by printing the batch"
   ]
  },
  {
   "cell_type": "code",
   "execution_count": null,
   "metadata": {},
   "outputs": [],
   "source": [
    "print(all_jobs)"
   ]
  },
  {
   "cell_type": "markdown",
   "metadata": {},
   "source": [
    "and filter jobs by status"
   ]
  },
  {
   "cell_type": "code",
   "execution_count": null,
   "metadata": {},
   "outputs": [],
   "source": [
    "succeeded_jobs = all_jobs.filter_jobs(succeeded=True, running=False, failed=False)\n",
    "print(f'Number of succeeded jobs: {len(succeeded_jobs)}')\n",
    "failed_jobs = all_jobs.filter_jobs(succeeded=False, running=False, failed=True)\n",
    "print(f'Number of failed jobs: {len(failed_jobs)}')"
   ]
  },
  {
   "cell_type": "markdown",
   "metadata": {},
   "source": [
    "You can download the files for all successful jobs"
   ]
  },
  {
   "cell_type": "code",
   "execution_count": null,
   "metadata": {},
   "outputs": [],
   "source": [
    "file_list = succeeded_jobs.download_files()"
   ]
  },
  {
   "cell_type": "markdown",
   "metadata": {
    "pycharm": {
     "name": "#%% md\n"
    }
   },
   "source": [
    "*Note: only succeeded jobs will have files to download.*\n"
   ]
  }
 ],
 "metadata": {
  "kernelspec": {
   "display_name": "Python 3",
   "language": "python",
   "name": "python3"
  },
  "language_info": {
   "codemirror_mode": {
    "name": "ipython",
    "version": 3
   },
   "file_extension": ".py",
   "mimetype": "text/x-python",
   "name": "python",
   "nbconvert_exporter": "python",
   "pygments_lexer": "ipython3",
   "version": "3.11.6"
  }
 },
 "nbformat": 4,
 "nbformat_minor": 1
}
